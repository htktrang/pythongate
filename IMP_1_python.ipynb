{
 "cells": [
  {
   "cell_type": "markdown",
   "metadata": {},
   "source": [
    "# Cơ bản về JUPYTER NOTEBOOK và PYTHON"
   ]
  },
  {
   "cell_type": "markdown",
   "metadata": {},
   "source": [
    "## 1. Cài đặt python\n",
    "Cài python vào windown: [https://www.python.org/downloads/](https://www.python.org/downloads/) "
   ]
  },
  {
   "cell_type": "markdown",
   "metadata": {},
   "source": [
    "## 2. Cài Virtual Studio Code (VSCode) extension\n",
    "- Python (IntelliSense, code autocomplete)\n",
    "- Python Extension Pack\n",
    "- Python Environment Manager\n",
    "- pylance\n",
    "- python indent\n",
    "- Linting (Pylint, Flake8)\n",
    "- Code formatting (black, autopep)\n",
    "- Jupyter\n",
    "- Jupyter Notebook Renderers\n",
    "- Jupyter Keymap\n",
    "- gather"
   ]
  },
  {
   "cell_type": "markdown",
   "metadata": {},
   "source": [
    "## 3. Cài các gói python thường dùng"
   ]
  },
  {
   "cell_type": "markdown",
   "metadata": {},
   "source": [
    "#### a. Tạo môi trường ảo (virtual environment) cho python (tùy chọn):\n",
    "- Mở Terminal (ctr+` ) để cài đặt môi trường ảo\n",
    "> py -m venv [envname]\n",
    "- python sẽ tạo thư mục chứa mọi thư viện sẽ được tải xuống cho thực hành\n",
    "- Kích hoạt môi trường ảo\n",
    "> [envname]/Scripts/activate\n",
    "#### b. Nâng cấp pip (nếu cần):\n",
    "> py -m pip install --upgrade pip\n",
    "#### c. Cài các gói python thường dùng:\n",
    "> py -m pip install numpy  opencv-python  matplotlib  imageio  pydicom  scipy  pillow  scikit-image  \n",
    "#### d. Xóa gói python đã cài đặt:\n",
    "> py -m pip uninstall [pckname]\n",
    "#### e. Tắt môi trường ảo sau khi thực hành:\n",
    "> deactivate"
   ]
  },
  {
   "cell_type": "markdown",
   "metadata": {},
   "source": [
    "#### f. Kiểm tra python version\n",
    "- !py --version"
   ]
  },
  {
   "cell_type": "markdown",
   "metadata": {},
   "source": [
    "#### g. Nâng cấp pip (nếu cần)\n",
    "- !py -m pip install --upgrade pip\n",
    "\n",
    "Cài các gói python cần dùng:\n",
    "- !py -m pip install numpy \n",
    "- !py -m pip install scipy\n",
    "- !py -m pip install matplotlib\n",
    "- !py -m pip install pillow\n",
    "- !py -m pip install pydicom (không hoạt động trên python 3.11)\n",
    "- !py -m pip install opencv-python"
   ]
  },
  {
   "cell_type": "markdown",
   "metadata": {},
   "source": [
    "Cài đặt scikit-image\n",
    "- Download scikit-image wheel tại:\n",
    "https://www.lfd.uci.edu/~gohlke/pythonlibs/#scikit-learn\n",
    "- Install scikit-image:\n",
    "> py -m pip install .../scikit-image-wheel/scikit_image-0.19.3-cp311-cp311-win_amd64.whl\n"
   ]
  },
  {
   "cell_type": "markdown",
   "metadata": {},
   "source": [
    "## 4. IPython notebook"
   ]
  },
  {
   "cell_type": "markdown",
   "metadata": {},
   "source": [
    "IPython notebook không theo chuẩn của file chương trình python thông thường (gồm các câu lệnh python và chú thích). IPython notebook lưu file theo định dạng [JSON](http://en.wikipedia.org/wiki/JSON). IPython notebook cho phép pha trộn văn bảng, hình ảnh, nhóm câu lệnh, và kết quả của nhóm câu lệnh."
   ]
  },
  {
   "cell_type": "markdown",
   "metadata": {},
   "source": [
    "Mở notebook mới: ctr + shift + p\n",
    "> Jupyter : Create New Blank Notebook\n",
    "Lưu ở định dạng `.ipynb`"
   ]
  },
  {
   "cell_type": "markdown",
   "metadata": {},
   "source": [
    "## 5. Tên biến và loại dữ liệu"
   ]
  },
  {
   "cell_type": "markdown",
   "metadata": {},
   "source": [
    "Tên biến có thể chứa các ký tự `a-z`, `A-Z`, `0-9` và một số ký tự đặc biệt như `_`. Tên biến bắt đầu bằng ký tự viết thường và tên module bắt đầu bằng ký tự viết hoa. \n",
    "\n",
    "Từ khóa python, không được dùng để đặt tên biến:\n",
    "\n",
    "    and, as, assert, break, class, continue, def, del, elif, else, except, \n",
    "    exec, finally, for, from, global, if, import, in, is, lambda, not, or,\n",
    "    pass, print, raise, return, try, while, with, yield"
   ]
  },
  {
   "cell_type": "markdown",
   "metadata": {},
   "source": [
    "### TH - Gán giá trị"
   ]
  },
  {
   "cell_type": "code",
   "execution_count": 2,
   "metadata": {},
   "outputs": [
    {
     "name": "stdout",
     "output_type": "stream",
     "text": [
      "10.3\n"
     ]
    }
   ],
   "source": [
    "x = 10.3\n",
    "arr = {2,3,7,5}\n",
    "print(x)"
   ]
  },
  {
   "cell_type": "markdown",
   "metadata": {},
   "source": [
    "### TH - Loại dữ liệu"
   ]
  },
  {
   "cell_type": "markdown",
   "metadata": {},
   "source": [
    "Các loại dữ liệu: số nguyên `interger` (1, 2, 3), số thực `float` (12.5), `boolean` (True, False)"
   ]
  },
  {
   "cell_type": "code",
   "execution_count": null,
   "metadata": {},
   "outputs": [],
   "source": [
    "x = 10.4\n",
    "type(x)"
   ]
  },
  {
   "cell_type": "markdown",
   "metadata": {},
   "source": [
    "Số phức: `complex`"
   ]
  },
  {
   "cell_type": "code",
   "execution_count": null,
   "metadata": {},
   "outputs": [],
   "source": [
    "x = 1.0 - 1.0j\n",
    "type(x)\n",
    "#print(x)\n",
    "#print(x.real,x.imag)"
   ]
  },
  {
   "cell_type": "markdown",
   "metadata": {},
   "source": [
    "Kiểm tra loại của biến bằng module `type`"
   ]
  },
  {
   "cell_type": "code",
   "execution_count": null,
   "metadata": {},
   "outputs": [],
   "source": [
    "x = 1.\n",
    "# check if the variable x is a float\n",
    "type(x) is float"
   ]
  },
  {
   "cell_type": "code",
   "execution_count": null,
   "metadata": {},
   "outputs": [],
   "source": [
    "x = 10\n",
    "isinstance(x, float)"
   ]
  },
  {
   "cell_type": "markdown",
   "metadata": {},
   "source": [
    "Biến đổi loại của biến"
   ]
  },
  {
   "cell_type": "code",
   "execution_count": null,
   "metadata": {},
   "outputs": [],
   "source": [
    "x = 1.6\n",
    "y = int(x)\n",
    "print(x)\n",
    "print(y, type(y))"
   ]
  },
  {
   "cell_type": "markdown",
   "metadata": {},
   "source": [
    "Không thể biến đổi từ số phức sang số thực, số nguyên hoặc boolean, cần phải trích phần thực và phần ảo trước khi chuyển đổi."
   ]
  },
  {
   "cell_type": "code",
   "execution_count": null,
   "metadata": {},
   "outputs": [],
   "source": [
    "x = 1\n",
    "z = complex(x)\n",
    "print(z, type(z))\n",
    "\n",
    "y = bool(z.real)\n",
    "print(z.real, \" -> \", y, type(y))\n",
    "\n",
    "y = bool(z.imag)\n",
    "print(z.imag, \" -> \", y, type(y))"
   ]
  },
  {
   "cell_type": "markdown",
   "metadata": {},
   "source": [
    "## 6. Toán tử và phép so sánh"
   ]
  },
  {
   "cell_type": "markdown",
   "metadata": {},
   "source": [
    "### TH - Phép tính đại số: \n",
    "- `+`, `-`, `*`, `/`, `//` (chia số nguyên), `**` (lũy thừa)\n",
    "- kết quả phép chia `/` luôn là số thực `float` trong python 3\n",
    "- toán tử boolean (toán tử logic): `and`, `not`, `or`\n",
    "- so sánh: `>`, `<`, `>=`, `<=`, `==`, `is` (identical, chính xác bằng giá trị và loại)"
   ]
  },
  {
   "cell_type": "code",
   "execution_count": null,
   "metadata": {},
   "outputs": [],
   "source": [
    "xx = yy = [1,2]\n",
    "xx is yy"
   ]
  },
  {
   "cell_type": "markdown",
   "metadata": {},
   "source": [
    "## 7. Các loại dữ liệu phức hợp: string, list, tuple, set và dictionary"
   ]
  },
  {
   "cell_type": "markdown",
   "metadata": {},
   "source": [
    "### TH - String (str): chuỗi ký tự"
   ]
  },
  {
   "cell_type": "code",
   "execution_count": null,
   "metadata": {},
   "outputs": [],
   "source": [
    "s = \"Hello world\"\n",
    "type(s)"
   ]
  },
  {
   "cell_type": "markdown",
   "metadata": {},
   "source": [
    "Chiều dài ký tự trong string"
   ]
  },
  {
   "cell_type": "code",
   "execution_count": null,
   "metadata": {},
   "outputs": [],
   "source": [
    "len(s)"
   ]
  },
  {
   "cell_type": "markdown",
   "metadata": {},
   "source": [
    "Thay thế một đoạn ký tự"
   ]
  },
  {
   "cell_type": "code",
   "execution_count": null,
   "metadata": {},
   "outputs": [],
   "source": [
    "s2 = s.replace(\"world\", \"class\")\n",
    "print(s2)"
   ]
  },
  {
   "cell_type": "markdown",
   "metadata": {},
   "source": [
    "String là dãy ký tự (character array), ta có thể gọi từng ký tự theo chỉ số, hoặc dãy ký tự liền kề `[start:stop]`"
   ]
  },
  {
   "cell_type": "code",
   "execution_count": null,
   "metadata": {},
   "outputs": [],
   "source": [
    "print(s2[0])\n",
    "print(s2[0:5])\n",
    "print(s2[6:len(s2)])"
   ]
  },
  {
   "cell_type": "markdown",
   "metadata": {},
   "source": [
    "Nếu ta bỏ qua chỉ số đầu hoặc cuối trong dãy ký tự, giá trị mặc định là chỉ số đầu và cuối của toàn string"
   ]
  },
  {
   "cell_type": "code",
   "execution_count": null,
   "metadata": {},
   "outputs": [],
   "source": [
    "print(s2[:5])\n",
    "print(s2[6:])"
   ]
  },
  {
   "cell_type": "markdown",
   "metadata": {},
   "source": [
    "Bước nhảy mặc định trong chuỗi là 1, ta có thể xác định bước nhảy `[start,stop,step]`"
   ]
  },
  {
   "cell_type": "code",
   "execution_count": null,
   "metadata": {},
   "outputs": [],
   "source": [
    "s[::2]"
   ]
  },
  {
   "cell_type": "markdown",
   "metadata": {},
   "source": [
    "Format string"
   ]
  },
  {
   "cell_type": "code",
   "execution_count": null,
   "metadata": {},
   "outputs": [],
   "source": [
    "print(\"str1\", \"str2\", \"str3\")\n",
    "print(\"str1\" + \"str2\" + \"str3\")\n",
    "print(\"value = %f\" % 1.5)\n",
    "print(f\"value = {2.67}\")"
   ]
  },
  {
   "cell_type": "code",
   "execution_count": null,
   "metadata": {},
   "outputs": [],
   "source": [
    "s2 = \"value1 = %.2f, value2 = %d\" % (3.1415, 1.5)\n",
    "print(s2)\n",
    "\n",
    "s3 = 'value1 = {0}, value2 = {1}'.format(3.1415, 1.5)\n",
    "print(s3)"
   ]
  },
  {
   "cell_type": "markdown",
   "metadata": {},
   "source": [
    "### TH - List: quan trọng trong kiểm soát phép lặp"
   ]
  },
  {
   "cell_type": "markdown",
   "metadata": {},
   "source": [
    " List là chuỗi mà mỗi thành phần có thể thuộc một loại bất kỳ, cấu trúc `[...]`. Chỉ số chuỗi bắt đầu từ 0."
   ]
  },
  {
   "cell_type": "code",
   "execution_count": null,
   "metadata": {},
   "outputs": [],
   "source": [
    "li = [1,2,3,4]\n",
    "\n",
    "print(type(li))\n",
    "print(li)\n",
    "\n",
    "lj = [1, 'a',\"Tuấn\", 1.0, 1-1j,['a','b']]\n",
    "print(lj)"
   ]
  },
  {
   "cell_type": "markdown",
   "metadata": {},
   "source": [
    "Gọi thành phần trong List theo bước nhảy."
   ]
  },
  {
   "cell_type": "code",
   "execution_count": null,
   "metadata": {},
   "outputs": [],
   "source": [
    "print(li)\n",
    "print(li[1:3])\n",
    "print(li[::2])"
   ]
  },
  {
   "cell_type": "code",
   "execution_count": null,
   "metadata": {},
   "outputs": [],
   "source": [
    "nested_list = [1, [2, [3, [4, [5]]]]]\n",
    "\n",
    "nested_list"
   ]
  },
  {
   "cell_type": "markdown",
   "metadata": {},
   "source": [
    "Tạo list từ hàm `range`"
   ]
  },
  {
   "cell_type": "code",
   "execution_count": null,
   "metadata": {},
   "outputs": [],
   "source": [
    "start = 10\n",
    "stop = 30\n",
    "step = 2\n",
    "range(start, stop, step)\n",
    "# python 3 only!\n",
    "list(range(start, stop, step))"
   ]
  },
  {
   "cell_type": "code",
   "execution_count": null,
   "metadata": {},
   "outputs": [],
   "source": [
    "list(range(-10, 10))"
   ]
  },
  {
   "cell_type": "code",
   "execution_count": null,
   "metadata": {},
   "outputs": [],
   "source": [
    "s = 'Hello CHK30'\n",
    "list(s)"
   ]
  },
  {
   "cell_type": "markdown",
   "metadata": {},
   "source": [
    "Sắp xếp list theo thứ tự"
   ]
  },
  {
   "cell_type": "code",
   "execution_count": null,
   "metadata": {},
   "outputs": [],
   "source": [
    "s2 = list(s)\n",
    "s2.sort()\n",
    "print(s2)"
   ]
  },
  {
   "cell_type": "markdown",
   "metadata": {},
   "source": [
    "Thêm và điều chỉnh thành phần trong list"
   ]
  },
  {
   "cell_type": "code",
   "execution_count": null,
   "metadata": {},
   "outputs": [],
   "source": [
    "# create a new empty list\n",
    "li = []\n",
    "# add an elements using `append`\n",
    "li.append(\"A\")\n",
    "li.append(\"d\")\n",
    "li.append(\"d\")\n",
    "print(li)\n",
    "\n",
    "li[1]='n'\n",
    "print(li)"
   ]
  },
  {
   "cell_type": "markdown",
   "metadata": {},
   "source": [
    "Chèn thành phần mới vào list"
   ]
  },
  {
   "cell_type": "code",
   "execution_count": null,
   "metadata": {},
   "outputs": [],
   "source": [
    "#li = []\n",
    "li.insert(0, \"i\")\n",
    "li.insert(1, \"n\")\n",
    "li.insert(2, \"s\")\n",
    "li.insert(3, \"e\")\n",
    "li.insert(4, \"r\")\n",
    "li.insert(5, \"t\")\n",
    "li.insert(6, \" \")\n",
    "\n",
    "print(li)"
   ]
  },
  {
   "cell_type": "markdown",
   "metadata": {},
   "source": [
    "Loại bỏ thành phần của list"
   ]
  },
  {
   "cell_type": "code",
   "execution_count": null,
   "metadata": {},
   "outputs": [],
   "source": [
    "li.remove(\"A\")\n",
    "print(li)\n",
    "\n",
    "del li[6]\n",
    "print(li)"
   ]
  },
  {
   "cell_type": "markdown",
   "metadata": {},
   "source": [
    "### TH - Tuple"
   ]
  },
  {
   "cell_type": "markdown",
   "metadata": {},
   "source": [
    "Tuple là tương tự như list nhưng không thể điều chỉnh sau khi được tạo, cấu trúc `(...)`"
   ]
  },
  {
   "cell_type": "code",
   "execution_count": null,
   "metadata": {},
   "outputs": [],
   "source": [
    "p1 = (10, 20)\n",
    "print(p1, type(p1))\n",
    "\n",
    "p2 = 12, 45\n",
    "print(p2, type(p2))"
   ]
  },
  {
   "cell_type": "markdown",
   "metadata": {},
   "source": [
    "Tách rời thành phần tuple bằng cách gán vào nhiều biến (cách nhau bằng dấu `,`)"
   ]
  },
  {
   "cell_type": "code",
   "execution_count": null,
   "metadata": {},
   "outputs": [],
   "source": [
    "x, y = p1\n",
    "print(\"x =\", x)\n",
    "print(\"y =\", y)"
   ]
  },
  {
   "cell_type": "markdown",
   "metadata": {},
   "source": [
    "### TH - Set"
   ]
  },
  {
   "cell_type": "markdown",
   "metadata": {},
   "source": [
    "Set là list không chứa giá trị trùng nhau. Set có thể dùng để loại bỏ giá trị trùng trong list hoặc tuble."
   ]
  },
  {
   "cell_type": "code",
   "execution_count": null,
   "metadata": {},
   "outputs": [],
   "source": [
    "s1 = set([1,2,3,4])\n",
    "s2 = {1,1,3,4}\n",
    "print(s1)\n",
    "print(s2)\n",
    "# Loại bỏ dữ liệu lặp trong list\n",
    "li = [1,1,3,4,5,7,4,10]\n",
    "s3 = set(li)\n",
    "print(s3)\n",
    "# Sắp xếp list theo thứ tự tăng dần\n",
    "tu = (12,3,1,4,2,3)\n",
    "s4 = set(tu)\n",
    "print(s4)"
   ]
  },
  {
   "cell_type": "markdown",
   "metadata": {},
   "source": [
    "### TH - Dictionary"
   ]
  },
  {
   "cell_type": "markdown",
   "metadata": {},
   "source": [
    "Dictionaries tương tự như list. Mỗi thành phần là một cặp từ khóa-giá trị, cấu trúc `{key1 : value1, key2 : value2, ...}`"
   ]
  },
  {
   "cell_type": "code",
   "execution_count": null,
   "metadata": {},
   "outputs": [],
   "source": [
    "params = {\"parameter1\" : 1.0,\n",
    "          \"parameter2\" : 2.0,\n",
    "          \"parameter3\" : 3.0,\n",
    "          \"parameter4\" : [14,24,45,23],\n",
    "          \"parameter5\" : {'name':'Trang','title':'Dr'}}\n",
    "print(type(params))\n",
    "print(params)"
   ]
  },
  {
   "cell_type": "markdown",
   "metadata": {},
   "source": [
    "Lấy giá trị từ từ khóa"
   ]
  },
  {
   "cell_type": "code",
   "execution_count": null,
   "metadata": {},
   "outputs": [],
   "source": [
    "print(\"parameter1 = \" + str(params[\"parameter1\"]))\n",
    "print(\"parameter2 = \" + str(params[\"parameter2\"]))\n",
    "print(\"parameter3 = \" + str(params[\"parameter3\"]))"
   ]
  },
  {
   "cell_type": "markdown",
   "metadata": {},
   "source": [
    "Điều chỉnh và thêm thành phần mới"
   ]
  },
  {
   "cell_type": "code",
   "execution_count": null,
   "metadata": {},
   "outputs": [],
   "source": [
    "params[\"parameter1\"] = \"A\"\n",
    "params[\"parameter2\"] = \"B\"\n",
    "\n",
    "# add a new entry\n",
    "params[\"parameter4\"] = \"D\"\n",
    "\n",
    "print(\"parameter1 = \" + str(params[\"parameter1\"]))\n",
    "print(\"parameter2 = \" + str(params[\"parameter2\"]))\n",
    "print(\"parameter3 = \" + str(params[\"parameter3\"]))\n",
    "print(\"parameter4 = \" + str(params[\"parameter4\"]))"
   ]
  },
  {
   "cell_type": "markdown",
   "metadata": {},
   "source": [
    "## 8. Kiểm soát vòng lặp"
   ]
  },
  {
   "cell_type": "markdown",
   "metadata": {},
   "source": [
    "### TH - Câu lệnh điều kiện: `if`, `elif` (else if), `else` "
   ]
  },
  {
   "cell_type": "markdown",
   "metadata": {},
   "source": [
    "Lưu ý: khối lệnh trong python được xác định bằng khoảng trống đầu dòng"
   ]
  },
  {
   "cell_type": "code",
   "execution_count": 6,
   "metadata": {},
   "outputs": [
    {
     "name": "stdout",
     "output_type": "stream",
     "text": [
      "statement1 is True\n",
      "điều kiện 3\n"
     ]
    }
   ],
   "source": [
    "statement1 = True\n",
    "statement2 = False\n",
    "\n",
    "if statement1:\n",
    "    print(\"statement1 is True\")    \n",
    "elif statement2:\n",
    "    print(\"statement2 is True\")\n",
    "else:\n",
    "    print(\"statement1 and statement2 are False\")"
   ]
  },
  {
   "cell_type": "markdown",
   "metadata": {},
   "source": [
    "### TH - Vòng lặp for"
   ]
  },
  {
   "cell_type": "code",
   "execution_count": 7,
   "metadata": {},
   "outputs": [
    {
     "name": "stdout",
     "output_type": "stream",
     "text": [
      "1 1\n",
      "2 4\n",
      "3 9\n"
     ]
    }
   ],
   "source": [
    "for x in [1,2,3]:\n",
    "    y = x**2\n",
    "    print(x,y)"
   ]
  },
  {
   "cell_type": "code",
   "execution_count": null,
   "metadata": {},
   "outputs": [],
   "source": [
    "n = 4\n",
    "print(range(n))\n",
    "for x in range(n): # by default range start at 0\n",
    "    print(x)"
   ]
  },
  {
   "cell_type": "code",
   "execution_count": null,
   "metadata": {},
   "outputs": [],
   "source": [
    "for x in range(-3,3):\n",
    "    print(x)\n",
    "    \n",
    "# for x in range(2,10,2):\n",
    "#     print(x)"
   ]
  },
  {
   "cell_type": "code",
   "execution_count": null,
   "metadata": {},
   "outputs": [],
   "source": [
    "for word in [\"scientific\", \"computing\", \"with\", \"python\"]:\n",
    "    print(word)"
   ]
  },
  {
   "cell_type": "markdown",
   "metadata": {},
   "source": [
    "Lặp các cặp từ khóa-giá trị của dictionary:"
   ]
  },
  {
   "cell_type": "code",
   "execution_count": null,
   "metadata": {},
   "outputs": [],
   "source": [
    "params = {\"parameter1\" : 1.0,\n",
    "          \"parameter2\" : 2.0,\n",
    "          \"parameter3\" : 3.0,\n",
    "          \"parameter4\" : [14,24,45,23],\n",
    "          \"parameter5\" : {'name':'Trang','title':'Dr'}}\n",
    "\n",
    "for key, value in params.items():\n",
    "    print(\"key = \", key, \", value = \", str(value))\n",
    "    # print(\"key = \", key, \", value = \", value)"
   ]
  },
  {
   "cell_type": "markdown",
   "metadata": {},
   "source": [
    "Lặp theo chỉ số của dãy dùng hàm `enumerate`"
   ]
  },
  {
   "cell_type": "code",
   "execution_count": null,
   "metadata": {},
   "outputs": [],
   "source": [
    "for idx, x in enumerate(range(-3,3)):\n",
    "    print(idx, x)"
   ]
  },
  {
   "cell_type": "markdown",
   "metadata": {},
   "source": [
    "Tạo list bằng vòng lặp for"
   ]
  },
  {
   "cell_type": "code",
   "execution_count": null,
   "metadata": {},
   "outputs": [],
   "source": [
    "l1 = [x**2 for x in range(0,5)]\n",
    "\n",
    "print(l1)"
   ]
  },
  {
   "cell_type": "markdown",
   "metadata": {},
   "source": [
    "### TH - Vòng lặp while"
   ]
  },
  {
   "cell_type": "code",
   "execution_count": null,
   "metadata": {},
   "outputs": [],
   "source": [
    "i = 0\n",
    "while i < 5:\n",
    "    print(i)\n",
    "    i = i + 1\n",
    "    \n",
    "print(\"done\")"
   ]
  },
  {
   "cell_type": "markdown",
   "metadata": {},
   "source": [
    "## 9. Hàm (function)"
   ]
  },
  {
   "cell_type": "markdown",
   "metadata": {},
   "source": [
    "### TH - Hàm bắt đầu bằng từ khóa `def`"
   ]
  },
  {
   "cell_type": "code",
   "execution_count": null,
   "metadata": {},
   "outputs": [],
   "source": [
    "def func1(s):\n",
    "    \"\"\"\n",
    "    Print a string 's' and tell how many characters it has    \n",
    "    \"\"\"\n",
    "    print(s + \" has \" + str(len(s)) + \" characters\")\n",
    "\n",
    "help(func1)\n",
    "func1(\"test\")"
   ]
  },
  {
   "cell_type": "markdown",
   "metadata": {},
   "source": [
    "Hàm trả giá trị đầu ra"
   ]
  },
  {
   "cell_type": "code",
   "execution_count": null,
   "metadata": {},
   "outputs": [],
   "source": [
    "def square(x):\n",
    "    \"\"\"\n",
    "    Return the square of x.\n",
    "    \"\"\"\n",
    "    return x ** 2\n",
    "\n",
    "square(4)"
   ]
  },
  {
   "cell_type": "markdown",
   "metadata": {},
   "source": [
    "### TH - Hàm trả ra nhiều giá trị dùng tuple"
   ]
  },
  {
   "cell_type": "code",
   "execution_count": 16,
   "metadata": {},
   "outputs": [
    {
     "name": "stdout",
     "output_type": "stream",
     "text": [
      "27\n"
     ]
    }
   ],
   "source": [
    "def powers(x):\n",
    "    \"\"\"\n",
    "    Return a few powers of x.\n",
    "    \"\"\"\n",
    "    return x ** 2, x ** 3, x ** 4\n",
    "\n",
    "# print (powers(3))\n",
    "x2, x3, x4 = powers(3)\n",
    "# x = powers(3)\n",
    "print(x3)"
   ]
  },
  {
   "cell_type": "markdown",
   "metadata": {},
   "source": [
    "### TH - Tham số mặc định"
   ]
  },
  {
   "cell_type": "code",
   "execution_count": null,
   "metadata": {},
   "outputs": [],
   "source": [
    "def myfunc(x, p=2, debug=False):\n",
    "    if debug:\n",
    "        print(\"evaluating myfunc for x = \" + str(x) + \" using exponent p = \" + str(p))\n",
    "    return x**p"
   ]
  },
  {
   "cell_type": "markdown",
   "metadata": {},
   "source": [
    "Khi gọi hàm, nếu tên tham số được gọi rõ ràng thì thứ tự tham số không cần theo thứ tự trong định nghĩa hàm"
   ]
  },
  {
   "cell_type": "code",
   "execution_count": null,
   "metadata": {},
   "outputs": [],
   "source": [
    "myfunc(p=3, debug=True, x=7)"
   ]
  },
  {
   "cell_type": "markdown",
   "metadata": {},
   "source": [
    "### TH - Hàm không tên (lambda function)"
   ]
  },
  {
   "cell_type": "code",
   "execution_count": null,
   "metadata": {},
   "outputs": [],
   "source": [
    "f1 = lambda x: x**2\n",
    "    \n",
    "# f1 tương đương với hàm f2 sau \n",
    "\n",
    "def f2(x):\n",
    "    return x**2\n",
    "\n",
    "f1(2), f2(2)"
   ]
  },
  {
   "cell_type": "markdown",
   "metadata": {},
   "source": [
    "Kỹ thuật này hữu ích khi ta cần dùng một hàm đơn giản làm tham số của một hàm khác"
   ]
  },
  {
   "cell_type": "code",
   "execution_count": null,
   "metadata": {},
   "outputs": [],
   "source": [
    "# map is a built-in python function\n",
    "map(lambda x: x**2, range(-3,4))"
   ]
  },
  {
   "cell_type": "code",
   "execution_count": null,
   "metadata": {},
   "outputs": [],
   "source": [
    "# in python 3 we can use `list(...)` to convert the iterator to an explicit list\n",
    "list(map(lambda x: x**2, range(-3,4)))"
   ]
  },
  {
   "cell_type": "markdown",
   "metadata": {},
   "source": [
    "## 10. Gói thư viện (module) - `numpy`, `scipy`, `matplotlib`, `pillow`, `scikit-image`, `opencv-python`"
   ]
  },
  {
   "cell_type": "markdown",
   "metadata": {},
   "source": [
    "Hầu hết các hàm thư viện python được cung cấp theo các gói (`modules`). Gói thư viện python chuẩn gồm rất nhiều module có thể thực hiện trên đa nền tảng của các tiện ích phổ biến như quyền truy cập vào hệ điều hành, xuất / nhập tệp, quản lý chuỗi ký tự (`string`), giao tiếp mạng v.v."
   ]
  },
  {
   "cell_type": "markdown",
   "metadata": {},
   "source": [
    "Module thường dùng: `os`, `sys`, `math`, `shutil`, `re`, `subprocess`, `multiprocessing`, `threading`, `numpy`, `scipy`, `matplotlib`, `pillow`, `scikit-image`, `opencv-python`"
   ]
  },
  {
   "cell_type": "markdown",
   "metadata": {},
   "source": [
    "### TH - Gọi module"
   ]
  },
  {
   "cell_type": "markdown",
   "metadata": {},
   "source": [
    "Để dùng module, ta thực hiện lệnh `import` để chèn toàn bộ các hàm thư viện trong module để dùng trong chương trình."
   ]
  },
  {
   "cell_type": "code",
   "execution_count": null,
   "metadata": {},
   "outputs": [],
   "source": [
    "import math\n",
    "x = math.cos(2 * math.pi)\n",
    "print(x)"
   ]
  },
  {
   "cell_type": "markdown",
   "metadata": {},
   "source": [
    "Ta có thể gọi hàm cần dùng trong module để không cần kèm tên module mỗi khi gọi hàm."
   ]
  },
  {
   "cell_type": "code",
   "execution_count": null,
   "metadata": {},
   "outputs": [],
   "source": [
    "from math import cos, pi\n",
    "\n",
    "x = cos(60*pi/180)\n",
    "print(x)"
   ]
  },
  {
   "cell_type": "markdown",
   "metadata": {},
   "source": [
    "### TH - Xem các hàm và biến trong module"
   ]
  },
  {
   "cell_type": "code",
   "execution_count": null,
   "metadata": {},
   "outputs": [],
   "source": [
    "import math\n",
    "\n",
    "print(dir(math))"
   ]
  },
  {
   "cell_type": "markdown",
   "metadata": {},
   "source": [
    "### TH - Xem hướng dẫn của hàm"
   ]
  },
  {
   "cell_type": "code",
   "execution_count": null,
   "metadata": {},
   "outputs": [],
   "source": [
    "import math\n",
    "help(math.cos)"
   ]
  },
  {
   "cell_type": "markdown",
   "metadata": {},
   "source": [
    "### TH - Numpy"
   ]
  },
  {
   "cell_type": "markdown",
   "metadata": {},
   "source": [
    "Numpy gồm các hàm toán học trên dãy (array) và ma trận (matrix). Hàm numpy tác động lên vector hoặc ma trận nên tăng tốc độ tính toán so với việc dùng các vòng lặp nhiều tầng (cho dữ liệu nhiều chiều). "
   ]
  },
  {
   "cell_type": "markdown",
   "metadata": {},
   "source": [
    "Hai loại dữ liệu nhiều chiều trong numpy là array và matrix:\n",
    "- Matrix là ma trận bậc 2, array có thể có bậc > 2,\n",
    "- Nhân hai matrix bằng dấu `*`, nhân hai array bằng hàm `dot(...)`, \n",
    "- Dấu `*` trong phép nhân giữa hai array sẽ nhân phần tử với phần tử,\n",
    "- Array là dữ liệu mặc định trong numpy"
   ]
  },
  {
   "cell_type": "code",
   "execution_count": null,
   "metadata": {},
   "outputs": [],
   "source": [
    "import numpy as np\n",
    "# print(dir(np))\n",
    "#help(np.zeros)\n",
    "a = np.array([[1, 2, 3, 4], [5, 6, 7, 8], [9, 10, 11, 12]])\n",
    "print(a)"
   ]
  },
  {
   "cell_type": "code",
   "execution_count": null,
   "metadata": {},
   "outputs": [],
   "source": [
    "# Tạo array zero hai phần tử\n",
    "np.zeros(2)"
   ]
  },
  {
   "cell_type": "code",
   "execution_count": null,
   "metadata": {},
   "outputs": [],
   "source": [
    "#Tạo array 1 hai phần tử\n",
    "np.ones(2)"
   ]
  },
  {
   "cell_type": "code",
   "execution_count": null,
   "metadata": {},
   "outputs": [],
   "source": [
    "# Tạo array trống hai phần tử\n",
    "np.empty(2)"
   ]
  },
  {
   "cell_type": "code",
   "execution_count": null,
   "metadata": {},
   "outputs": [],
   "source": [
    "# Tạo array có giá trị trong khoảng từ 0 đến 3\n",
    "np.arange(4)"
   ]
  },
  {
   "cell_type": "code",
   "execution_count": null,
   "metadata": {},
   "outputs": [],
   "source": [
    "# Tạo array có giá trị trong khoảng từ 2 đến 9, bước nhảy 2\n",
    "np.arange(2,9,2)"
   ]
  },
  {
   "cell_type": "code",
   "execution_count": null,
   "metadata": {},
   "outputs": [],
   "source": [
    "# Tạo array có giá trị trong khoảng từ 0 đến 10, gồm 5 phần tử\n",
    "np.linspace(0, 10, num=5)"
   ]
  },
  {
   "cell_type": "code",
   "execution_count": null,
   "metadata": {},
   "outputs": [],
   "source": [
    "# Định dạng loại dữ liệu trong array\n",
    "x = np.ones(2, dtype=np.int64)\n",
    "x"
   ]
  },
  {
   "cell_type": "code",
   "execution_count": null,
   "metadata": {},
   "outputs": [],
   "source": [
    "# Sắp xếp thứ tự array\n",
    "arr = np.array([2, 1, 5, 3, 7, 4, 6, 8])\n",
    "np.sort(arr)"
   ]
  },
  {
   "cell_type": "code",
   "execution_count": null,
   "metadata": {},
   "outputs": [],
   "source": [
    "# Kết hợp hai array\n",
    "a = np.array([1, 2, 3, 4])\n",
    "b = np.array([5, 6, 7, 8])\n",
    "np.concatenate((a, b))"
   ]
  },
  {
   "cell_type": "code",
   "execution_count": null,
   "metadata": {},
   "outputs": [],
   "source": [
    "# number of axes, or dimensions, of the array\n",
    "arr = np.array([[[0, 1, 2, 3],\n",
    "                 [4, 5, 6, 7]],\n",
    "                [[0, 1, 2, 3],\n",
    "                 [4, 5, 6, 7]],\n",
    "                [[0 ,1 ,2, 3],\n",
    "                 [4, 5, 6, 7]]])\n",
    "# arr.ndim\n",
    "# arr.size\n",
    "# arr.shape"
   ]
  },
  {
   "cell_type": "code",
   "execution_count": null,
   "metadata": {},
   "outputs": [],
   "source": [
    "# reshape array\n",
    "a = np.arange(6)\n",
    "print(a)\n",
    "b = a.reshape(3, 2)\n",
    "print(b)"
   ]
  },
  {
   "cell_type": "code",
   "execution_count": null,
   "metadata": {},
   "outputs": [],
   "source": [
    "# Chuyển đổi array 1D sang 2D\n",
    "a = np.array([1, 2, 3, 4, 5, 6])\n",
    "print(a.shape)\n",
    "# vector hàng\n",
    "a2 = a[np.newaxis, :]\n",
    "print(a2.shape)\n",
    "print(a2)\n",
    "# vector cột\n",
    "a3 = a[:, np.newaxis]\n",
    "print(a3.shape)\n",
    "print(a3)"
   ]
  },
  {
   "cell_type": "code",
   "execution_count": null,
   "metadata": {},
   "outputs": [],
   "source": [
    "# Thêm 1 chiều bằng np.expand_dims \n",
    "a = np.array([1, 2, 3, 4, 5, 6])\n",
    "print(a.shape)\n",
    "b = np.expand_dims(a, axis=1)\n",
    "print(b.shape)\n",
    "c = np.expand_dims(a, axis=0)\n",
    "print(c.shape)\n"
   ]
  },
  {
   "cell_type": "code",
   "execution_count": null,
   "metadata": {},
   "outputs": [],
   "source": [
    "# Gọi phần tử trong array \n",
    "data = np.array([1, 2, 3])\n",
    "data[1]\n",
    "# data[0:2]\n",
    "# data[1:]\n",
    "# data[-2:]"
   ]
  },
  {
   "cell_type": "code",
   "execution_count": null,
   "metadata": {},
   "outputs": [],
   "source": [
    "a = np.array([[1 , 2, 3, 4], [5, 6, 7, 8], [9, 10, 11, 12]])\n",
    "# Lọc ra các phần tử < 5\n",
    "b = a[a < 5]\n",
    "print(b)\n",
    "# Lọc ra các phần tử >= 5\n",
    "print(a[a >= 5])\n",
    "# Lọc ra các phần tử chia chẵn cho 2\n",
    "print(a[a%2==0])\n",
    "# Lọc ra các phần tử > 2 và < 11\n",
    "print(a[(a > 2) & (a < 11)])"
   ]
  },
  {
   "cell_type": "code",
   "execution_count": null,
   "metadata": {},
   "outputs": [],
   "source": [
    "#  Tạo array mới\n",
    "a = np.array([1,  2,  3,  4,  5,  6,  7,  8,  9, 10])\n",
    "a1 = a[3:8]\n",
    "a1"
   ]
  },
  {
   "cell_type": "code",
   "execution_count": null,
   "metadata": {},
   "outputs": [],
   "source": [
    "a1 = np.array([[1, 1],\n",
    "               [2, 2]])\n",
    "a2 = np.array([[3, 3],\n",
    "               [4, 4]])\n",
    "# Chồng hai array\n",
    "np.vstack((a1, a2))\n",
    "# np.hstack((a1, a2))"
   ]
  },
  {
   "cell_type": "code",
   "execution_count": null,
   "metadata": {},
   "outputs": [],
   "source": [
    "x = np.arange(1, 25).reshape(2, 12)\n",
    "print(x)\n",
    "# Chia nhỏ array theo chiều dọc\n",
    "print(np.hsplit(x, 3))"
   ]
  },
  {
   "cell_type": "code",
   "execution_count": null,
   "metadata": {},
   "outputs": [],
   "source": [
    "# Cộng array\n",
    "data = np.array([1, 2])\n",
    "ones = np.ones(2, dtype=int)\n",
    "add = data + ones\n",
    "print(data,\"+\",ones,\"=\",add)\n",
    "sub = data - ones\n",
    "print(data,\"-\",ones,\"=\",sub)\n",
    "mul = data * ones\n",
    "print(data,\"*\",ones,\"=\",mul)\n",
    "div = data / ones\n",
    "print(data,\"/\",ones,\"=\",div)"
   ]
  },
  {
   "cell_type": "code",
   "execution_count": null,
   "metadata": {},
   "outputs": [],
   "source": [
    "# Cộng tất cả các phần tử trong array\n",
    "a = np.array([1, 2, 3, 4])\n",
    "a.sum() "
   ]
  },
  {
   "cell_type": "code",
   "execution_count": null,
   "metadata": {},
   "outputs": [],
   "source": [
    "# Xác định giá trị lớn nhất, nhỏ nhất, tổng\n",
    "a = np.array([[0.45053314, 0.17296777, 0.34376245, 0.5510652],\n",
    "              [0.54627315, 0.05093587, 0.40067661, 0.55645993],\n",
    "              [0.12697628, 0.82485143, 0.26590556, 0.56917101]])\n",
    "print(a.max())\n",
    "print(a.min())\n",
    "print(a.sum())"
   ]
  },
  {
   "cell_type": "code",
   "execution_count": null,
   "metadata": {},
   "outputs": [],
   "source": [
    "# Chuyển vị ma trận\n",
    "data = np.array([[1, 2], [3, 4], [5, 6]])\n",
    "data.reshape(2, 3)\n",
    "# data.reshape(3, 2)"
   ]
  },
  {
   "cell_type": "code",
   "execution_count": null,
   "metadata": {},
   "outputs": [],
   "source": [
    "arr = np.arange(6).reshape((2, 3))\n",
    "arr.transpose()"
   ]
  },
  {
   "cell_type": "code",
   "execution_count": null,
   "metadata": {},
   "outputs": [],
   "source": [
    "# Nghich đảo ma trận 1D\n",
    "arr = np.array([1, 2, 3, 4, 5, 6, 7, 8])\n",
    "reversed_arr = np.flip(arr)\n",
    "print(reversed_arr)"
   ]
  },
  {
   "cell_type": "code",
   "execution_count": null,
   "metadata": {},
   "outputs": [],
   "source": [
    "# Nghich đảo ma trận 2D\n",
    "arr_2d = np.array([[1, 2, 3, 4], [5, 6, 7, 8], [9, 10, 11, 12]])\n",
    "reversed_arr_2d = np.flip(arr_2d)\n",
    "print(reversed_arr_2d)"
   ]
  },
  {
   "cell_type": "markdown",
   "metadata": {},
   "source": [
    "Xem thêm các ví dụ về numpy ở [https://numpy.org/doc/stable/user/absolute_beginners.html](https://numpy.org/doc/stable/user/absolute_beginners.html)"
   ]
  },
  {
   "cell_type": "markdown",
   "metadata": {},
   "source": [
    "### TH - Scipy"
   ]
  },
  {
   "cell_type": "markdown",
   "metadata": {},
   "source": [
    "Scipy là gói thư viện gồm các hàm toán học để lập trình khoa học như phép tinh tích hợp (integration), tối ưu hóa, biến đổi Fourier, xử lý tín hiệu, thống kê, xử lý hình ảnh đa chiều, v.v. Scipy sử dụng numpy để tính toán."
   ]
  },
  {
   "cell_type": "markdown",
   "metadata": {},
   "source": [
    "Scipy bao gồm rất nhiều hàm thư viện con nên khi xử dụng, ta chỉ nên gọi hàm hoặc gói liên quan."
   ]
  },
  {
   "cell_type": "markdown",
   "metadata": {},
   "source": [
    "Xem hướng dẫn về scipy tại [https://docs.scipy.org/doc/scipy/tutorial/](https://docs.scipy.org/doc/scipy/tutorial/)"
   ]
  },
  {
   "cell_type": "code",
   "execution_count": null,
   "metadata": {},
   "outputs": [],
   "source": [
    "from scipy.fft import fft, ifft\n",
    "x = np.array([1.0, 2.0, 1.0, -1.0, 1.5])\n",
    "y = fft(x)\n",
    "print(y)\n",
    "yinv = ifft(y)\n",
    "print(yinv)"
   ]
  },
  {
   "cell_type": "markdown",
   "metadata": {},
   "source": [
    "### TH - Matplotlib"
   ]
  },
  {
   "cell_type": "markdown",
   "metadata": {},
   "source": [
    "Matplotlib là thư viện sử dụng kiểu dữ liệu numpy để vẽ đồ thị 2D/3D."
   ]
  },
  {
   "cell_type": "markdown",
   "metadata": {},
   "source": [
    "Xem hướng dẫn về matplotlib tại [https://matplotlib.org/stable/tutorials/index.html](https://matplotlib.org/stable/tutorials/index.html)"
   ]
  },
  {
   "cell_type": "code",
   "execution_count": null,
   "metadata": {},
   "outputs": [],
   "source": [
    "import numpy as np\n",
    "import matplotlib.pyplot as plt\n",
    "\n",
    "# Fixing random state for reproducibility\n",
    "np.random.seed(19680801)\n",
    "\n",
    "mu, sigma = 100, 15\n",
    "x = mu + sigma * np.random.randn(10000)\n",
    "\n",
    "# the histogram of the data\n",
    "n, bins, patches = plt.hist(x, 50, density=True, facecolor='g', alpha=0.75)\n",
    "\n",
    "plt.xlabel('Smarts')\n",
    "plt.ylabel('Probability')\n",
    "plt.title('Histogram of IQ')\n",
    "plt.text(60, .025, r'$\\mu=100,\\ \\sigma=15$')\n",
    "plt.xlim(40, 160)\n",
    "plt.ylim(0, 0.03)\n",
    "plt.grid(True)\n",
    "plt.show()"
   ]
  },
  {
   "cell_type": "markdown",
   "metadata": {},
   "source": [
    "### TH - Python Imaging Library (PIL)"
   ]
  },
  {
   "cell_type": "markdown",
   "metadata": {},
   "source": [
    "Python Imaging Library (PIL) là thư viện để đọc, ghi và xử lý các tệp hình ảnh. PIL hỗ trợ hầu hết các định dạng hình ảnh phổ biến như JPEG, PNG, TIFF ..."
   ]
  },
  {
   "cell_type": "markdown",
   "metadata": {},
   "source": [
    "Xem hướng dẫn của PIL tại [https://pillow.readthedocs.io/en/stable/handbook/tutorial.html](https://pillow.readthedocs.io/en/stable/handbook/tutorial.html)"
   ]
  },
  {
   "cell_type": "code",
   "execution_count": null,
   "metadata": {},
   "outputs": [],
   "source": [
    "# Ví dụ trộn hai ảnh bằng gói thư viện PIL.Iamge\n",
    "from PIL import Image\n",
    "import matplotlib.pyplot as plt\n",
    "#\n",
    "alpha = 0.5\n",
    "img1 = Image.open('Images/img_cat.jpg')\n",
    "img2 = Image.open('Images/img_background.jpg').resize(img1.size)\n",
    "#\n",
    "img3 = Image.blend(img1,img2, alpha) \n",
    "#Image.blend(img1, img2, alpha).save(\n",
    "#    \"Outputs/Image_blend_{}.jpg\".format(alpha))\n",
    "\n",
    "plt.figure(figsize=(20,5)) # size inche-by-inche\n",
    "plt.subplot(131)\n",
    "plt.imshow(img1)\n",
    "plt.title(\"cat\")\n",
    "plt.axis('off')\n",
    "plt.subplot(132)\n",
    "plt.imshow(img2)\n",
    "plt.title(\"background\")\n",
    "plt.axis('off')\n",
    "plt.subplot(133)\n",
    "plt.imshow(img3)\n",
    "plt.title(\"blend\")\n",
    "plt.axis('off')\n",
    "plt.subplots_adjust(wspace=0.05, hspace=0., top=0.99, bottom=0.01, left=0.05,\n",
    "                    right=0.99)\n",
    "plt.show()"
   ]
  },
  {
   "cell_type": "markdown",
   "metadata": {},
   "source": [
    "### TH - Scikits"
   ]
  },
  {
   "cell_type": "markdown",
   "metadata": {},
   "source": [
    "Scikits bao gồm các module ứng dụng cho các lĩnh vực khác nhau như khoa học môi trường, phân tích thống kê, xử lý hình ảnh, kỹ thuật vi sóng, xử lý âm thanh, bài toán giá trị biên, điều chỉnh đường cong, tính toán lượng tử, v.v."
   ]
  },
  {
   "cell_type": "markdown",
   "metadata": {},
   "source": [
    "Các quy trình xử lý hình ảnh trong scikits có tên là scikit-image, chứa các thuật toán cho đầu vào / đầu ra, hình thái học, phát hiện và phân tích đối tượng, v.v."
   ]
  },
  {
   "cell_type": "markdown",
   "metadata": {},
   "source": [
    "Xem hướng dẫn của Scikits tại [https://scikit-image.org/docs/stable/user_guide.html](https://scikit-image.org/docs/stable/user_guide.html)"
   ]
  },
  {
   "cell_type": "code",
   "execution_count": null,
   "metadata": {},
   "outputs": [],
   "source": [
    "from skimage import data, io\n",
    "# download ảnh camera từ dữ liệu của skimage\n",
    "# img = data.camera()\n",
    "# lưu ảnh vào thư mục Images\n",
    "# io.imsave(\"Images/camera.png\",img)"
   ]
  },
  {
   "cell_type": "code",
   "execution_count": null,
   "metadata": {},
   "outputs": [],
   "source": [
    "from skimage import io\n",
    "import matplotlib.pyplot as plt\n",
    "\n",
    "img = io.imread(\"Images/camera.png\")\n",
    "\n",
    "# Xác định khuôn hình (canvas) gồm hai hình\n",
    "fig, ax = plt.subplots(1, 2, figsize=(20, 10))\n",
    "\n",
    "# Thể hiện ảnh gốc\n",
    "ax[0].imshow(img, cmap=plt.cm.gray)\n",
    "ax[0].set_title('Original')\n",
    "ax[0].axis('off')\n",
    "\n",
    "# Phân bố độ đậm của ảnh (histogram)\n",
    "# ravel(): hàm trong numpy, xuất dãy giá trị từ array\n",
    "# hist(): hàm trong matplotlib.pyplot, vẽ phân bố độ đậm của ảnh\n",
    "ax[1].hist(img.ravel(), bins=256)\n",
    "ax[1].set_title('Histogram')\n",
    "\n",
    "plt.show()"
   ]
  },
  {
   "cell_type": "code",
   "execution_count": null,
   "metadata": {},
   "outputs": [],
   "source": [
    "import matplotlib.pyplot as plt\n",
    "help(plt.hist)"
   ]
  },
  {
   "cell_type": "markdown",
   "metadata": {},
   "source": [
    "### Python OpenCV"
   ]
  },
  {
   "cell_type": "markdown",
   "metadata": {},
   "source": [
    "Open Source Computer Vision Library (OpenCV) là thư viện phần mềm xử lý hình ảnh, thị giác máy tính và học máy. OpenCV có hơn 2000 thuật toán xử lý dữ liệu hình ảnh và hỗ trợ liên kết với các ngôn ngữ lập trình phổ biến như C, C ++, Python."
   ]
  },
  {
   "cell_type": "markdown",
   "metadata": {},
   "source": [
    "Tìm hiểu thêm về xử lý ảnh dùng OpenCV tại [https://docs.opencv.org/master/d2/d96/tutorial_py_table_of_contents_imgproc.html](https://docs.opencv.org/master/d2/d96/tutorial_py_table_of_contents_imgproc.html)"
   ]
  },
  {
   "cell_type": "markdown",
   "metadata": {},
   "source": [
    "## 11. Code python có ký tự đặc biệt"
   ]
  },
  {
   "cell_type": "markdown",
   "metadata": {},
   "source": [
    "Chuẩn mã hóa ký tự trong python là ASCII, nhưng ta có thể sử dụng bất kỳ loại mã hóa nào khác, ví dụ UTF-8 bằng cách thêm dòng đặc biệt ở đầu file '.py'\n",
    "\n",
    "     # - * - coding: UTF-8 - * -"
   ]
  },
  {
   "cell_type": "markdown",
   "metadata": {},
   "source": [
    "# TÀI LIỆU ĐỌC THÊM"
   ]
  },
  {
   "cell_type": "markdown",
   "metadata": {},
   "source": [
    "J.R. Johansson, [http://github.com/jrjohansson/scientific-python-lectures](http://github.com/jrjohansson/scientific-python-lectures)"
   ]
  },
  {
   "cell_type": "markdown",
   "metadata": {},
   "source": [
    "The Python Language Reference: [http://docs.python.org/2/reference/index.html](http://docs.python.org/2/reference/index.html)"
   ]
  },
  {
   "cell_type": "markdown",
   "metadata": {},
   "source": [
    "The Python 2 Standard Library: [http://docs.python.org/2/library/](http://docs.python.org/2/library/)"
   ]
  },
  {
   "cell_type": "markdown",
   "metadata": {},
   "source": [
    "The Python 3 Standard Library: [http://docs.python.org/3/library/](http://docs.python.org/3/library/) "
   ]
  },
  {
   "cell_type": "markdown",
   "metadata": {},
   "source": [
    "Numpy: [https://numpy.org/doc/stable/user/absolute_beginners.html](https://numpy.org/doc/stable/user/absolute_beginners.html)"
   ]
  },
  {
   "cell_type": "markdown",
   "metadata": {},
   "source": [
    "Scipy: [https://docs.scipy.org/doc/scipy/tutorial/](https://docs.scipy.org/doc/scipy/tutorial/)"
   ]
  },
  {
   "cell_type": "markdown",
   "metadata": {},
   "source": [
    "Matplotlib: [https://matplotlib.org/stable/tutorials/index.html](https://matplotlib.org/stable/tutorials/index.html)"
   ]
  },
  {
   "cell_type": "markdown",
   "metadata": {},
   "source": [
    "PIL: [https://pillow.readthedocs.io/en/stable/handbook/tutorial.html](https://pillow.readthedocs.io/en/stable/handbook/tutorial.html)"
   ]
  },
  {
   "cell_type": "markdown",
   "metadata": {},
   "source": [
    "Scikits: [https://scikit-image.org/docs/stable/user_guide.html](https://scikit-image.org/docs/stable/user_guide.html)"
   ]
  },
  {
   "cell_type": "markdown",
   "metadata": {},
   "source": [
    "OpenCV: [https://docs.opencv.org/master/d2/d96/tutorial_py_table_of_contents_imgproc.html](https://docs.opencv.org/master/d2/d96/tutorial_py_table_of_contents_imgproc.html)"
   ]
  },
  {
   "cell_type": "markdown",
   "metadata": {},
   "source": [
    "Markdown for Jupyter notebooks cheatsheet, [link](https://ingeh.medium.com/markdown-for-jupyter-notebooks-cheatsheet-386c05aeebed)"
   ]
  },
  {
   "cell_type": "markdown",
   "metadata": {},
   "source": [
    "Chityala, R., & Pudipeddi, S. (2020). Image processing and acquisition using Python. CRC Press."
   ]
  }
 ],
 "metadata": {
  "kernelspec": {
   "display_name": "Python 3.9.5 64-bit ('3.9.5')",
   "language": "python",
   "name": "python3"
  },
  "language_info": {
   "codemirror_mode": {
    "name": "ipython",
    "version": 3
   },
   "file_extension": ".py",
   "mimetype": "text/x-python",
   "name": "python",
   "nbconvert_exporter": "python",
   "pygments_lexer": "ipython3",
   "version": "3.11.8"
  },
  "orig_nbformat": 4,
  "vscode": {
   "interpreter": {
    "hash": "228fc3eedd4e535890c55f998280b81f70ad6407de6a33528c8c0df50b1d873b"
   }
  }
 },
 "nbformat": 4,
 "nbformat_minor": 2
}
